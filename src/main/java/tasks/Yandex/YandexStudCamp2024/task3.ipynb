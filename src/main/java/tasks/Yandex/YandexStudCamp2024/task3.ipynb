{
  "nbformat": 4,
  "nbformat_minor": 0,
  "metadata": {
    "colab": {
      "provenance": []
    },
    "kernelspec": {
      "name": "python3",
      "display_name": "Python 3"
    },
    "language_info": {
      "name": "python"
    }
  },
  "cells": [
    {
      "cell_type": "code",
      "source": [
        "import pandas as pd\n",
        "import matplotlib.pyplot as plt\n",
        "from math import *\n",
        "\n",
        "df = pd.read_csv('sample_final.csv')\n",
        "df.head()"
      ],
      "metadata": {
        "colab": {
          "base_uri": "https://localhost:8080/",
          "height": 310
        },
        "id": "o9BFTkghxX8c",
        "outputId": "1b918aea-52d0-4703-e149-14eaddc820a8"
      },
      "execution_count": 40,
      "outputs": [
        {
          "output_type": "execute_result",
          "data": {
            "text/plain": [
              "   Unnamed: 0                            ФИО  Место рождения  Возраст  \\\n",
              "0           0     Комаров Никифор Германович  клх Муравленко       24   \n",
              "1           1     Станимир Артёмович Антонов    к. Пятигорск       20   \n",
              "2           2  Синклитикия Юльевна Мясникова       г. Шамары       25   \n",
              "3           3   Добромысл Бориславович Мухин       г. Шамары       26   \n",
              "4           4      Клавдия Романовна Ефимова       д. Домбай       18   \n",
              "\n",
              "   День недели         Видеозапись  \n",
              "0      Суббота             Матрица  \n",
              "1        Среда       Семинар по ML  \n",
              "2      Суббота  Видосы про собачек  \n",
              "3      Четверг   Бегущий по лезвию  \n",
              "4  Понедельник        Лекция по ML  "
            ],
            "text/html": [
              "\n",
              "  <div id=\"df-fd73b505-48de-4145-9e1f-103aafe7907e\" class=\"colab-df-container\">\n",
              "    <div>\n",
              "<style scoped>\n",
              "    .dataframe tbody tr th:only-of-type {\n",
              "        vertical-align: middle;\n",
              "    }\n",
              "\n",
              "    .dataframe tbody tr th {\n",
              "        vertical-align: top;\n",
              "    }\n",
              "\n",
              "    .dataframe thead th {\n",
              "        text-align: right;\n",
              "    }\n",
              "</style>\n",
              "<table border=\"1\" class=\"dataframe\">\n",
              "  <thead>\n",
              "    <tr style=\"text-align: right;\">\n",
              "      <th></th>\n",
              "      <th>Unnamed: 0</th>\n",
              "      <th>ФИО</th>\n",
              "      <th>Место рождения</th>\n",
              "      <th>Возраст</th>\n",
              "      <th>День недели</th>\n",
              "      <th>Видеозапись</th>\n",
              "    </tr>\n",
              "  </thead>\n",
              "  <tbody>\n",
              "    <tr>\n",
              "      <th>0</th>\n",
              "      <td>0</td>\n",
              "      <td>Комаров Никифор Германович</td>\n",
              "      <td>клх Муравленко</td>\n",
              "      <td>24</td>\n",
              "      <td>Суббота</td>\n",
              "      <td>Матрица</td>\n",
              "    </tr>\n",
              "    <tr>\n",
              "      <th>1</th>\n",
              "      <td>1</td>\n",
              "      <td>Станимир Артёмович Антонов</td>\n",
              "      <td>к. Пятигорск</td>\n",
              "      <td>20</td>\n",
              "      <td>Среда</td>\n",
              "      <td>Семинар по ML</td>\n",
              "    </tr>\n",
              "    <tr>\n",
              "      <th>2</th>\n",
              "      <td>2</td>\n",
              "      <td>Синклитикия Юльевна Мясникова</td>\n",
              "      <td>г. Шамары</td>\n",
              "      <td>25</td>\n",
              "      <td>Суббота</td>\n",
              "      <td>Видосы про собачек</td>\n",
              "    </tr>\n",
              "    <tr>\n",
              "      <th>3</th>\n",
              "      <td>3</td>\n",
              "      <td>Добромысл Бориславович Мухин</td>\n",
              "      <td>г. Шамары</td>\n",
              "      <td>26</td>\n",
              "      <td>Четверг</td>\n",
              "      <td>Бегущий по лезвию</td>\n",
              "    </tr>\n",
              "    <tr>\n",
              "      <th>4</th>\n",
              "      <td>4</td>\n",
              "      <td>Клавдия Романовна Ефимова</td>\n",
              "      <td>д. Домбай</td>\n",
              "      <td>18</td>\n",
              "      <td>Понедельник</td>\n",
              "      <td>Лекция по ML</td>\n",
              "    </tr>\n",
              "  </tbody>\n",
              "</table>\n",
              "</div>\n",
              "    <div class=\"colab-df-buttons\">\n",
              "\n",
              "  <div class=\"colab-df-container\">\n",
              "    <button class=\"colab-df-convert\" onclick=\"convertToInteractive('df-fd73b505-48de-4145-9e1f-103aafe7907e')\"\n",
              "            title=\"Convert this dataframe to an interactive table.\"\n",
              "            style=\"display:none;\">\n",
              "\n",
              "  <svg xmlns=\"http://www.w3.org/2000/svg\" height=\"24px\" viewBox=\"0 -960 960 960\">\n",
              "    <path d=\"M120-120v-720h720v720H120Zm60-500h600v-160H180v160Zm220 220h160v-160H400v160Zm0 220h160v-160H400v160ZM180-400h160v-160H180v160Zm440 0h160v-160H620v160ZM180-180h160v-160H180v160Zm440 0h160v-160H620v160Z\"/>\n",
              "  </svg>\n",
              "    </button>\n",
              "\n",
              "  <style>\n",
              "    .colab-df-container {\n",
              "      display:flex;\n",
              "      gap: 12px;\n",
              "    }\n",
              "\n",
              "    .colab-df-convert {\n",
              "      background-color: #E8F0FE;\n",
              "      border: none;\n",
              "      border-radius: 50%;\n",
              "      cursor: pointer;\n",
              "      display: none;\n",
              "      fill: #1967D2;\n",
              "      height: 32px;\n",
              "      padding: 0 0 0 0;\n",
              "      width: 32px;\n",
              "    }\n",
              "\n",
              "    .colab-df-convert:hover {\n",
              "      background-color: #E2EBFA;\n",
              "      box-shadow: 0px 1px 2px rgba(60, 64, 67, 0.3), 0px 1px 3px 1px rgba(60, 64, 67, 0.15);\n",
              "      fill: #174EA6;\n",
              "    }\n",
              "\n",
              "    .colab-df-buttons div {\n",
              "      margin-bottom: 4px;\n",
              "    }\n",
              "\n",
              "    [theme=dark] .colab-df-convert {\n",
              "      background-color: #3B4455;\n",
              "      fill: #D2E3FC;\n",
              "    }\n",
              "\n",
              "    [theme=dark] .colab-df-convert:hover {\n",
              "      background-color: #434B5C;\n",
              "      box-shadow: 0px 1px 3px 1px rgba(0, 0, 0, 0.15);\n",
              "      filter: drop-shadow(0px 1px 2px rgba(0, 0, 0, 0.3));\n",
              "      fill: #FFFFFF;\n",
              "    }\n",
              "  </style>\n",
              "\n",
              "    <script>\n",
              "      const buttonEl =\n",
              "        document.querySelector('#df-fd73b505-48de-4145-9e1f-103aafe7907e button.colab-df-convert');\n",
              "      buttonEl.style.display =\n",
              "        google.colab.kernel.accessAllowed ? 'block' : 'none';\n",
              "\n",
              "      async function convertToInteractive(key) {\n",
              "        const element = document.querySelector('#df-fd73b505-48de-4145-9e1f-103aafe7907e');\n",
              "        const dataTable =\n",
              "          await google.colab.kernel.invokeFunction('convertToInteractive',\n",
              "                                                    [key], {});\n",
              "        if (!dataTable) return;\n",
              "\n",
              "        const docLinkHtml = 'Like what you see? Visit the ' +\n",
              "          '<a target=\"_blank\" href=https://colab.research.google.com/notebooks/data_table.ipynb>data table notebook</a>'\n",
              "          + ' to learn more about interactive tables.';\n",
              "        element.innerHTML = '';\n",
              "        dataTable['output_type'] = 'display_data';\n",
              "        await google.colab.output.renderOutput(dataTable, element);\n",
              "        const docLink = document.createElement('div');\n",
              "        docLink.innerHTML = docLinkHtml;\n",
              "        element.appendChild(docLink);\n",
              "      }\n",
              "    </script>\n",
              "  </div>\n",
              "\n",
              "\n",
              "<div id=\"df-5e8fb76c-1982-4cd5-bac4-a92523fd9550\">\n",
              "  <button class=\"colab-df-quickchart\" onclick=\"quickchart('df-5e8fb76c-1982-4cd5-bac4-a92523fd9550')\"\n",
              "            title=\"Suggest charts\"\n",
              "            style=\"display:none;\">\n",
              "\n",
              "<svg xmlns=\"http://www.w3.org/2000/svg\" height=\"24px\"viewBox=\"0 0 24 24\"\n",
              "     width=\"24px\">\n",
              "    <g>\n",
              "        <path d=\"M19 3H5c-1.1 0-2 .9-2 2v14c0 1.1.9 2 2 2h14c1.1 0 2-.9 2-2V5c0-1.1-.9-2-2-2zM9 17H7v-7h2v7zm4 0h-2V7h2v10zm4 0h-2v-4h2v4z\"/>\n",
              "    </g>\n",
              "</svg>\n",
              "  </button>\n",
              "\n",
              "<style>\n",
              "  .colab-df-quickchart {\n",
              "      --bg-color: #E8F0FE;\n",
              "      --fill-color: #1967D2;\n",
              "      --hover-bg-color: #E2EBFA;\n",
              "      --hover-fill-color: #174EA6;\n",
              "      --disabled-fill-color: #AAA;\n",
              "      --disabled-bg-color: #DDD;\n",
              "  }\n",
              "\n",
              "  [theme=dark] .colab-df-quickchart {\n",
              "      --bg-color: #3B4455;\n",
              "      --fill-color: #D2E3FC;\n",
              "      --hover-bg-color: #434B5C;\n",
              "      --hover-fill-color: #FFFFFF;\n",
              "      --disabled-bg-color: #3B4455;\n",
              "      --disabled-fill-color: #666;\n",
              "  }\n",
              "\n",
              "  .colab-df-quickchart {\n",
              "    background-color: var(--bg-color);\n",
              "    border: none;\n",
              "    border-radius: 50%;\n",
              "    cursor: pointer;\n",
              "    display: none;\n",
              "    fill: var(--fill-color);\n",
              "    height: 32px;\n",
              "    padding: 0;\n",
              "    width: 32px;\n",
              "  }\n",
              "\n",
              "  .colab-df-quickchart:hover {\n",
              "    background-color: var(--hover-bg-color);\n",
              "    box-shadow: 0 1px 2px rgba(60, 64, 67, 0.3), 0 1px 3px 1px rgba(60, 64, 67, 0.15);\n",
              "    fill: var(--button-hover-fill-color);\n",
              "  }\n",
              "\n",
              "  .colab-df-quickchart-complete:disabled,\n",
              "  .colab-df-quickchart-complete:disabled:hover {\n",
              "    background-color: var(--disabled-bg-color);\n",
              "    fill: var(--disabled-fill-color);\n",
              "    box-shadow: none;\n",
              "  }\n",
              "\n",
              "  .colab-df-spinner {\n",
              "    border: 2px solid var(--fill-color);\n",
              "    border-color: transparent;\n",
              "    border-bottom-color: var(--fill-color);\n",
              "    animation:\n",
              "      spin 1s steps(1) infinite;\n",
              "  }\n",
              "\n",
              "  @keyframes spin {\n",
              "    0% {\n",
              "      border-color: transparent;\n",
              "      border-bottom-color: var(--fill-color);\n",
              "      border-left-color: var(--fill-color);\n",
              "    }\n",
              "    20% {\n",
              "      border-color: transparent;\n",
              "      border-left-color: var(--fill-color);\n",
              "      border-top-color: var(--fill-color);\n",
              "    }\n",
              "    30% {\n",
              "      border-color: transparent;\n",
              "      border-left-color: var(--fill-color);\n",
              "      border-top-color: var(--fill-color);\n",
              "      border-right-color: var(--fill-color);\n",
              "    }\n",
              "    40% {\n",
              "      border-color: transparent;\n",
              "      border-right-color: var(--fill-color);\n",
              "      border-top-color: var(--fill-color);\n",
              "    }\n",
              "    60% {\n",
              "      border-color: transparent;\n",
              "      border-right-color: var(--fill-color);\n",
              "    }\n",
              "    80% {\n",
              "      border-color: transparent;\n",
              "      border-right-color: var(--fill-color);\n",
              "      border-bottom-color: var(--fill-color);\n",
              "    }\n",
              "    90% {\n",
              "      border-color: transparent;\n",
              "      border-bottom-color: var(--fill-color);\n",
              "    }\n",
              "  }\n",
              "</style>\n",
              "\n",
              "  <script>\n",
              "    async function quickchart(key) {\n",
              "      const quickchartButtonEl =\n",
              "        document.querySelector('#' + key + ' button');\n",
              "      quickchartButtonEl.disabled = true;  // To prevent multiple clicks.\n",
              "      quickchartButtonEl.classList.add('colab-df-spinner');\n",
              "      try {\n",
              "        const charts = await google.colab.kernel.invokeFunction(\n",
              "            'suggestCharts', [key], {});\n",
              "      } catch (error) {\n",
              "        console.error('Error during call to suggestCharts:', error);\n",
              "      }\n",
              "      quickchartButtonEl.classList.remove('colab-df-spinner');\n",
              "      quickchartButtonEl.classList.add('colab-df-quickchart-complete');\n",
              "    }\n",
              "    (() => {\n",
              "      let quickchartButtonEl =\n",
              "        document.querySelector('#df-5e8fb76c-1982-4cd5-bac4-a92523fd9550 button');\n",
              "      quickchartButtonEl.style.display =\n",
              "        google.colab.kernel.accessAllowed ? 'block' : 'none';\n",
              "    })();\n",
              "  </script>\n",
              "</div>\n",
              "    </div>\n",
              "  </div>\n"
            ],
            "application/vnd.google.colaboratory.intrinsic+json": {
              "type": "dataframe",
              "variable_name": "df",
              "summary": "{\n  \"name\": \"df\",\n  \"rows\": 700,\n  \"fields\": [\n    {\n      \"column\": \"Unnamed: 0\",\n      \"properties\": {\n        \"dtype\": \"number\",\n        \"std\": 202,\n        \"min\": 0,\n        \"max\": 699,\n        \"num_unique_values\": 700,\n        \"samples\": [\n          158,\n          500,\n          396\n        ],\n        \"semantic_type\": \"\",\n        \"description\": \"\"\n      }\n    },\n    {\n      \"column\": \"\\u0424\\u0418\\u041e\",\n      \"properties\": {\n        \"dtype\": \"category\",\n        \"num_unique_values\": 100,\n        \"samples\": [\n          \"\\u0421\\u043f\\u0438\\u0440\\u0438\\u0434\\u043e\\u043d \\u0418\\u0437\\u043e\\u0442\\u043e\\u0432\\u0438\\u0447 \\u0410\\u043d\\u0434\\u0440\\u0435\\u0435\\u0432\",\n          \"\\u0418\\u0432\\u0430\\u043d\\u043d\\u0430 \\u0410\\u0440\\u043a\\u0430\\u0434\\u044c\\u0435\\u0432\\u043d\\u0430 \\u041a\\u043e\\u043d\\u0441\\u0442\\u0430\\u043d\\u0442\\u0438\\u043d\\u043e\\u0432\\u0430\",\n          \"\\u041b\\u0443\\u043a\\u0438\\u044f \\u0421\\u0442\\u0430\\u043d\\u0438\\u0441\\u043b\\u0430\\u0432\\u043e\\u0432\\u043d\\u0430 \\u041c\\u0430\\u043a\\u0441\\u0438\\u043c\\u043e\\u0432\\u0430\"\n        ],\n        \"semantic_type\": \"\",\n        \"description\": \"\"\n      }\n    },\n    {\n      \"column\": \"\\u041c\\u0435\\u0441\\u0442\\u043e \\u0440\\u043e\\u0436\\u0434\\u0435\\u043d\\u0438\\u044f\",\n      \"properties\": {\n        \"dtype\": \"category\",\n        \"num_unique_values\": 99,\n        \"samples\": [\n          \"\\u043a. \\u041d\\u0438\\u0436\\u043d\\u0435\\u0432\\u0430\\u0440\\u0442\\u043e\\u0432\\u0441\\u043a\",\n          \"\\u0434. \\u041a\\u043e\\u0440\\u043e\\u043b\\u0435\\u0432\",\n          \"\\u0433. \\u041a\\u0438\\u0440\\u043e\\u0432 (\\u0412\\u044f\\u0442\\u043a\\u0430)\"\n        ],\n        \"semantic_type\": \"\",\n        \"description\": \"\"\n      }\n    },\n    {\n      \"column\": \"\\u0412\\u043e\\u0437\\u0440\\u0430\\u0441\\u0442\",\n      \"properties\": {\n        \"dtype\": \"number\",\n        \"std\": 2,\n        \"min\": 18,\n        \"max\": 27,\n        \"num_unique_values\": 10,\n        \"samples\": [\n          21,\n          20,\n          27\n        ],\n        \"semantic_type\": \"\",\n        \"description\": \"\"\n      }\n    },\n    {\n      \"column\": \"\\u0414\\u0435\\u043d\\u044c \\u043d\\u0435\\u0434\\u0435\\u043b\\u0438\",\n      \"properties\": {\n        \"dtype\": \"category\",\n        \"num_unique_values\": 7,\n        \"samples\": [\n          \"\\u0421\\u0443\\u0431\\u0431\\u043e\\u0442\\u0430\",\n          \"\\u0421\\u0440\\u0435\\u0434\\u0430\",\n          \"\\u041f\\u044f\\u0442\\u043d\\u0438\\u0446\\u0430\"\n        ],\n        \"semantic_type\": \"\",\n        \"description\": \"\"\n      }\n    },\n    {\n      \"column\": \"\\u0412\\u0438\\u0434\\u0435\\u043e\\u0437\\u0430\\u043f\\u0438\\u0441\\u044c\",\n      \"properties\": {\n        \"dtype\": \"category\",\n        \"num_unique_values\": 22,\n        \"samples\": [\n          \"\\u041c\\u0430\\u0442\\u0440\\u0438\\u0446\\u0430\",\n          \"\\u041b\\u0435\\u043a\\u0446\\u0438\\u044f \\u043f\\u043e Java\",\n          \"\\u0410\\u0432\\u0430\\u0442\\u0430\\u0440\"\n        ],\n        \"semantic_type\": \"\",\n        \"description\": \"\"\n      }\n    }\n  ]\n}"
            }
          },
          "metadata": {},
          "execution_count": 40
        }
      ]
    },
    {
      "cell_type": "code",
      "execution_count": 22,
      "metadata": {
        "colab": {
          "base_uri": "https://localhost:8080/"
        },
        "id": "rg2fxLTWxTaT",
        "outputId": "31de908d-ad5b-4f9f-b1cb-7f3fa4a06c4b"
      },
      "outputs": [
        {
          "output_type": "execute_result",
          "data": {
            "text/plain": [
              "(11, 6)"
            ]
          },
          "metadata": {},
          "execution_count": 22
        }
      ],
      "source": [
        "df.loc[(df['День недели'] == 'Четверг') & (df['Видеозапись'] == 'Видосы про собачек')].shape"
      ]
    },
    {
      "cell_type": "code",
      "source": [
        "df.loc[(df['День недели'] == 'Четверг')].shape"
      ],
      "metadata": {
        "colab": {
          "base_uri": "https://localhost:8080/"
        },
        "id": "cOdKNKAYypgp",
        "outputId": "8b0fbd96-6cb0-4b83-e636-9423458515d6"
      },
      "execution_count": 18,
      "outputs": [
        {
          "output_type": "execute_result",
          "data": {
            "text/plain": [
              "(100, 6)"
            ]
          },
          "metadata": {},
          "execution_count": 18
        }
      ]
    },
    {
      "cell_type": "code",
      "source": [
        "11/100"
      ],
      "metadata": {
        "colab": {
          "base_uri": "https://localhost:8080/"
        },
        "id": "e1lIQCjly6xC",
        "outputId": "b33b0a6c-2932-4a9b-8771-5ae7d5b62054"
      },
      "execution_count": 20,
      "outputs": [
        {
          "output_type": "execute_result",
          "data": {
            "text/plain": [
              "0.11"
            ]
          },
          "metadata": {},
          "execution_count": 20
        }
      ]
    },
    {
      "cell_type": "code",
      "source": [
        "df_dogs = df.loc[(df['Видеозапись'] == 'Видосы про собачек')]"
      ],
      "metadata": {
        "id": "OrBEbL-_0WU-"
      },
      "execution_count": 24,
      "outputs": []
    },
    {
      "cell_type": "code",
      "source": [
        "df.loc[(df['Видеозапись'] == 'Видосы про собачек')]['Видеозапись'].value_counts()"
      ],
      "metadata": {
        "colab": {
          "base_uri": "https://localhost:8080/"
        },
        "id": "beWFNUBC04zr",
        "outputId": "46c851c7-f6c2-467c-d5a3-14576b9e63f6"
      },
      "execution_count": 32,
      "outputs": [
        {
          "output_type": "execute_result",
          "data": {
            "text/plain": [
              "Видеозапись\n",
              "Видосы про собачек    61\n",
              "Name: count, dtype: int64"
            ]
          },
          "metadata": {},
          "execution_count": 32
        }
      ]
    },
    {
      "cell_type": "code",
      "source": [
        "for day in ['Суббота', 'Среда', 'Четверг', 'Понедельник', 'Вторник', 'Пятница',\n",
        "       'Воскресенье']:\n",
        "  print(day, df.loc[(df['День недели'] == day) & (df['Видеозапись'] == 'Видосы про собачек')]['Видеозапись'].value_counts())"
      ],
      "metadata": {
        "colab": {
          "base_uri": "https://localhost:8080/"
        },
        "id": "ynBbTjOS2Z9C",
        "outputId": "479626fa-7a91-4622-e79b-1d7df744a4bc"
      },
      "execution_count": 39,
      "outputs": [
        {
          "output_type": "stream",
          "name": "stdout",
          "text": [
            "Суббота Видеозапись\n",
            "Видосы про собачек    17\n",
            "Name: count, dtype: int64\n",
            "Среда Видеозапись\n",
            "Видосы про собачек    33\n",
            "Name: count, dtype: int64\n",
            "Четверг Видеозапись\n",
            "Видосы про собачек    11\n",
            "Name: count, dtype: int64\n",
            "Понедельник Series([], Name: count, dtype: int64)\n",
            "Вторник Series([], Name: count, dtype: int64)\n",
            "Пятница Series([], Name: count, dtype: int64)\n",
            "Воскресенье Series([], Name: count, dtype: int64)\n"
          ]
        }
      ]
    },
    {
      "cell_type": "code",
      "source": [
        "df['День недели'].unique()"
      ],
      "metadata": {
        "colab": {
          "base_uri": "https://localhost:8080/"
        },
        "id": "64htuhrH2j5t",
        "outputId": "a63b8d27-fa4e-4125-c8a8-b9cc37f02bdb"
      },
      "execution_count": 37,
      "outputs": [
        {
          "output_type": "execute_result",
          "data": {
            "text/plain": [
              "array(['Суббота', 'Среда', 'Четверг', 'Понедельник', 'Вторник', 'Пятница',\n",
              "       'Воскресенье'], dtype=object)"
            ]
          },
          "metadata": {},
          "execution_count": 37
        }
      ]
    },
    {
      "cell_type": "code",
      "source": [
        "n = 100\n",
        "p = 11/100\n",
        "\n",
        "total = 0\n",
        "for k in range(1, 9):\n",
        "  P = comb(n, k) * p ** k * (1 - p) ** (n - k)\n",
        "  total += P\n",
        "  print(k, P)\n",
        "print('Total:', total)"
      ],
      "metadata": {
        "colab": {
          "base_uri": "https://localhost:8080/"
        },
        "id": "2YpPq11B3wyB",
        "outputId": "a10efb9d-795b-4fad-9f1d-a70343407faa"
      },
      "execution_count": 44,
      "outputs": [
        {
          "output_type": "stream",
          "name": "stdout",
          "text": [
            "1 0.00010739976794629897\n",
            "2 0.0006570693668175256\n",
            "3 0.002652886806851284\n",
            "4 0.007951208491321122\n",
            "5 0.018868485768168772\n",
            "6 0.03692428394707185\n",
            "7 0.06128364301969871\n",
            "8 0.08805220057465137\n",
            "Total: 0.21649717774252691\n"
          ]
        }
      ]
    },
    {
      "cell_type": "markdown",
      "source": [],
      "metadata": {
        "id": "zPriQG-f4YaM"
      }
    },
    {
      "cell_type": "code",
      "source": [
        "1 - total"
      ],
      "metadata": {
        "colab": {
          "base_uri": "https://localhost:8080/"
        },
        "id": "oTmt7s7a4X_i",
        "outputId": "96ea2fb6-26aa-48b8-bc73-14cb1009a17a"
      },
      "execution_count": 43,
      "outputs": [
        {
          "output_type": "execute_result",
          "data": {
            "text/plain": [
              "0.7835028222574731"
            ]
          },
          "metadata": {},
          "execution_count": 43
        }
      ]
    }
  ]
}